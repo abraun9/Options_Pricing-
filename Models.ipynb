{
 "cells": [
  {
   "cell_type": "markdown",
   "metadata": {},
   "source": [
    "# Option Pricing Project\n",
    "\n",
    "This project implements three different models for pricing options: the Black-Scholes model, the Binomial Option Pricing model, and the Monte Carlo simulation method. Each model is designed to calculate the theoretical price of options based on various input parameters.\n"
   ]
  },
  {
   "cell_type": "markdown",
   "metadata": {},
   "source": [
    "## 1. Black-Scholes Model\n",
    "\n",
    "The Black-Scholes model is a mathematical model for pricing European-style options. It provides a closed-form solution to calculate the price of call and put options based on several key parameters.\n",
    "\n",
    "### **How It Works:**\n",
    "\n",
    "**Inputs:**\n",
    "- $ S $: Current stock price\n",
    "- $ K $: Option strike price\n",
    "- $ T $: Time to maturity (in years)\n",
    "- $ r $: Risk-free interest rate (annualized)\n",
    "- $ \\sigma $ (sigma): Volatility of the stock (annualized)\n",
    "\n",
    "**Calculations:**\n",
    "The model calculates two intermediary values, $ d_1 $ and $ d_2 $:\n",
    "\n",
    "$ d_1 = \\frac{\\ln\\left(\\frac{S}{K}\\right) + \\left(r + 0.5 \\sigma^2\\right)T}{\\sigma \\sqrt{T}} $\n",
    "\n",
    "$ d_2 = d_1 - \\sigma \\sqrt{T} $\n",
    "\n",
    "**Outputs:**\n",
    "- Call option price:\n",
    "  $ C = S \\cdot N(d_1) - K \\cdot e^{-rT} \\cdot N(d_2) $\n",
    "- Put option price:\n",
    "  $ P = K \\cdot e^{-rT} \\cdot N(-d_2) - S \\cdot N(-d_1) $\n",
    "\n",
    "where $ N() $ is the cumulative distribution function of the standard normal distribution."
   ]
  },
  {
   "cell_type": "markdown",
   "metadata": {},
   "source": [
    "## 2. Binomial Option Pricing Model\n",
    "\n",
    "The Binomial Option Pricing model is a versatile method that can be used to price both European and American options. It constructs a binomial tree to represent possible future stock prices at discrete time intervals.\n",
    "\n",
    "### **How It Works:**\n",
    "\n",
    "**Inputs:**\n",
    "- $ S $: Current stock price\n",
    "- $ K $: Option strike price\n",
    "- $ T $: Time to maturity (in years)\n",
    "- $ r $: Risk-free interest rate (annualized)\n",
    "- $ \\sigma $ (sigma): Volatility of the stock (annualized)\n",
    "- $ N $: Number of time steps in the binomial model\n",
    "\n",
    "**Calculations:**\n",
    "The model calculates the up and down factors:\n",
    "\n",
    "$ u = e^{\\sigma \\sqrt{\\Delta t}} $\n",
    "\n",
    "$ d = \\frac{1}{u} $\n",
    "\n",
    "The risk-neutral probability is calculated as:\n",
    "\n",
    "$ q = \\frac{e^{r \\Delta t} - d}{u - d} $\n",
    "\n",
    "A binomial tree of stock prices is constructed, and option values are calculated backward from the expiration date.\n",
    "\n",
    "**Outputs:**\n",
    "The model returns the present value of the option based on the calculated values at each node in the tree."
   ]
  },
  {
   "cell_type": "markdown",
   "metadata": {},
   "source": [
    "## 3. Monte Carlo Simulation\n",
    "\n",
    "The Monte Carlo simulation method is a numerical technique used to estimate the price of options by simulating a large number of random price paths for the underlying asset.\n",
    "\n",
    "### **How It Works:**\n",
    "\n",
    "**Inputs:**\n",
    "- $ S $: Current stock price\n",
    "- $ K $: Option strike price\n",
    "- $ T $: Time to maturity (in years)\n",
    "- $ r $: Risk-free interest rate (annualized)\n",
    "- $ \\sigma $ (sigma): Volatility of the stock (annualized)\n",
    "- `simulations`: Number of Monte Carlo simulations to run\n",
    "\n",
    "**Calculations:**\n",
    "For each simulated path, the future stock price at expiration is calculated using:\n",
    "\n",
    "$ S_T = S_0 \\cdot e^{(r - 0.5 \\sigma^2)T + \\sigma \\sqrt{T} Z} $\n",
    "\n",
    "where $ Z $ is a standard normal random variable.\n",
    "\n",
    "The option payoff is calculated for each path:\n",
    "- For calls: $ \\max(0, S_T - K) $\n",
    "- For puts: $ \\max(0, K - S_T) $\n",
    "\n",
    "**Outputs:**\n",
    "The average of the discounted payoffs is calculated to estimate the option price:\n",
    "\n",
    "$ \\text{Option Price} = e^{-rT} \\cdot \\text{Average Payoff} $"
   ]
  },
  {
   "cell_type": "markdown",
   "metadata": {},
   "source": [
    "## Conclusion\n",
    "\n",
    "This project provides a comprehensive implementation of three distinct option pricing models, allowing users to compare and analyze the results based on real-time market data. Each model has its strengths and is suitable for different types of options, making this project a valuable tool for understanding option pricing in financial markets."
   ]
  }
 ],
 "metadata": {
  "language_info": {
   "name": "python"
  }
 },
 "nbformat": 4,
 "nbformat_minor": 2
}
