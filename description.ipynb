{
 "cells": [
  {
   "cell_type": "markdown",
   "metadata": {},
   "source": [
    "## Options Pricing Project"
   ]
  },
  {
   "cell_type": "markdown",
   "metadata": {},
   "source": [
    "#### Project Overview\n",
    "This project is an option pricing calculator that implements three different pricing models: Black-Scholes, Binomial Option Pricing, and Monte Carlo simulation. The project is designed to calculate the prices of both call and put options for a given stock, using real-time market data."
   ]
  },
  {
   "cell_type": "markdown",
   "metadata": {},
   "source": [
    "#### Project Structure\n",
    "The project consists of three main Python files:\n",
    "1. `data_utils.py`: Handles data retrieval and processing\n",
    "2. `pricing_models.py`: Contains the implementation of the three pricing models\n",
    "3. `main.py`: Orchestrates the overall execution of the program"
   ]
  },
  {
   "cell_type": "markdown",
   "metadata": {},
   "source": [
    "#### Key Features\n",
    "1. Real-time Data Retrieval: The project uses the yfinance library to fetch current stock prices, risk-free rates, and historical data for volatility calculations.\n",
    "2. Multiple Pricing Models: Three different option pricing models are implemented, allowing for comparison and analysis:\n",
    "    - Black-Scholes Model\n",
    "    - Binomial Option Pricing Model\n",
    "    - Monte Carlo Simulation\n",
    "3. Flexibility: The program can price both call and put options.\n",
    "User Input: The main script allows for user input of the stock ticker, strike price, and expiration date."
   ]
  },
  {
   "cell_type": "markdown",
   "metadata": {},
   "source": [
    "#### Detailed Workflow\n",
    "1. Data Retrieval (data_utils.py):\n",
    "    - Fetches the current stock price for the specified ticker\n",
    "    - Calculates time to maturity based on the current date and option expiration date\n",
    "    - Retrieves the current risk-free rate (using 1-year Treasury yield as a proxy)\n",
    "    - Calculates historical volatility based on past stock price data\n",
    "2. Option Pricing (pricing_models.py):\n",
    "    - Implements the Black-Scholes formula for European options\n",
    "    - Provides a binomial tree model for option pricing\n",
    "    - Uses Monte Carlo simulation for option valuation\n",
    "3. Execution (main.py):\n",
    "    - Prompts the user for input (stock ticker, strike price, expiration date)\n",
    "    - Retrieves necessary market data\n",
    "    - Calculates option prices using all three models\n",
    "    - Displays the results"
   ]
  },
  {
   "cell_type": "markdown",
   "metadata": {},
   "source": [
    "#### Example Output\n",
    "\n",
    "```Enter the stock symbol (e.g., AAPL): AAPL\n",
    "Enter the strike price of the option: 230\n",
    "Enter the expiration date (YYYY-MM-DD): 2025-01-17\n",
    "\n",
    "Calculating option prices...\n",
    "Black-Scholes Call Price: 13.57\n",
    "Black-Scholes Put Price: 11.93\n",
    "Binomial Call Price: 13.60\n",
    "Binomial Put Price: 11.96\n",
    "Monte Carlo Call Price: 13.43\n",
    "Monte Carlo Put Price: 11.78```"
   ]
  }
 ],
 "metadata": {
  "language_info": {
   "name": "python"
  }
 },
 "nbformat": 4,
 "nbformat_minor": 2
}
